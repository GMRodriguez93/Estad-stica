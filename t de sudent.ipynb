{
 "cells": [
  {
   "cell_type": "code",
   "execution_count": null,
   "id": "090f176a",
   "metadata": {},
   "outputs": [
    {
     "data": {
      "application/vnd.jupyter.widget-view+json": {
       "model_id": "72cd3af848314474b9841e9eee666afa",
       "version_major": 2,
       "version_minor": 0
      },
      "text/plain": [
       "FloatText(value=0.0, description='Media muestral:')"
      ]
     },
     "metadata": {},
     "output_type": "display_data"
    },
    {
     "data": {
      "application/vnd.jupyter.widget-view+json": {
       "model_id": "047921af8081465482ab1eb039f6f0f5",
       "version_major": 2,
       "version_minor": 0
      },
      "text/plain": [
       "IntText(value=0, description='Tamaño (n):')"
      ]
     },
     "metadata": {},
     "output_type": "display_data"
    },
    {
     "data": {
      "application/vnd.jupyter.widget-view+json": {
       "model_id": "223eb076e69143989d870f6446d133c1",
       "version_major": 2,
       "version_minor": 0
      },
      "text/plain": [
       "FloatText(value=0.0, description='Desv. estándar:')"
      ]
     },
     "metadata": {},
     "output_type": "display_data"
    },
    {
     "data": {
      "application/vnd.jupyter.widget-view+json": {
       "model_id": "56d46bffb6b641d280018acb4e2bff59",
       "version_major": 2,
       "version_minor": 0
      },
      "text/plain": [
       "FloatText(value=0.0, description='Media H0:')"
      ]
     },
     "metadata": {},
     "output_type": "display_data"
    },
    {
     "data": {
      "application/vnd.jupyter.widget-view+json": {
       "model_id": "307ca0f1fbf247958dab718390205f92",
       "version_major": 2,
       "version_minor": 0
      },
      "text/plain": [
       "FloatText(value=0.05, description='Alfa:')"
      ]
     },
     "metadata": {},
     "output_type": "display_data"
    },
    {
     "data": {
      "application/vnd.jupyter.widget-view+json": {
       "model_id": "c55216d8963a452b81de93c14ae75925",
       "version_major": 2,
       "version_minor": 0
      },
      "text/plain": [
       "RadioButtons(description='Tipo de prueba:', options=('Dos colas', 'Cola inferior', 'Cola superior'), value='Do…"
      ]
     },
     "metadata": {},
     "output_type": "display_data"
    },
    {
     "data": {
      "application/vnd.jupyter.widget-view+json": {
       "model_id": "4fd06410cb614262b51ee0d9cebc9dd6",
       "version_major": 2,
       "version_minor": 0
      },
      "text/plain": [
       "Button(description='Calcular prueba t', style=ButtonStyle())"
      ]
     },
     "metadata": {},
     "output_type": "display_data"
    }
   ],
   "source": [
    "import numpy as np\n",
    "import scipy.stats as stats\n",
    "import matplotlib.pyplot as plt\n",
    "import ipywidgets as widgets\n",
    "from IPython.display import display, clear_output\n",
    "\n",
    "# -----------------------------\n",
    "# Widgets de entrada\n",
    "# -----------------------------\n",
    "media_muestral = widgets.FloatText(description=\"Media muestral:\")\n",
    "n_muestra = widgets.IntText(description=\"Tamaño (n):\")\n",
    "desv_estandar = widgets.FloatText(description=\"Desv. estándar:\")\n",
    "media_hipotetica = widgets.FloatText(description=\"Media H0:\")\n",
    "alpha = widgets.FloatText(value=0.05, description=\"Alfa:\")\n",
    "tipo_prueba = widgets.RadioButtons(\n",
    "    options=[\"Dos colas\", \"Cola inferior\", \"Cola superior\"],\n",
    "    description=\"Tipo de prueba:\"\n",
    ")\n",
    "calcular_btn = widgets.Button(description=\"Calcular prueba t\")\n",
    "\n",
    "# -----------------------------\n",
    "# Función principal\n",
    "# -----------------------------\n",
    "def ejecutar_prueba(b):\n",
    "    clear_output()\n",
    "    \n",
    "    # Obtener valores\n",
    "    x_bar = media_muestral.value\n",
    "    n = n_muestra.value\n",
    "    s = desv_estandar.value\n",
    "    mu0 = media_hipotetica.value\n",
    "    a = alpha.value\n",
    "    tipo = tipo_prueba.value\n",
    "    \n",
    "    # Cálculos\n",
    "    se = s / np.sqrt(n)\n",
    "    t_stat = (x_bar - mu0) / se\n",
    "    df = n - 1\n",
    "\n",
    "    # Calcular p-valor según tipo de prueba\n",
    "    if tipo == \"Dos colas\":\n",
    "        p_valor = stats.t.sf(np.abs(t_stat), df) * 2\n",
    "    elif tipo == \"Cola inferior\":\n",
    "        p_valor = stats.t.cdf(t_stat, df)\n",
    "    elif tipo == \"Cola superior\":\n",
    "        p_valor = stats.t.sf(t_stat, df)\n",
    "\n",
    "    # Mostrar resultados\n",
    "    print(\"RESULTADOS\")\n",
    "    print(\"----------\")\n",
    "    print(f\"Estadístico t: {t_stat:.4f}\")\n",
    "    print(f\"Grados de libertad: {df}\")\n",
    "    print(f\"p-valor: {p_valor:.4f}\")\n",
    "\n",
    "    # Conclusión\n",
    "    print(\"\\nCONCLUSIÓN\")\n",
    "    print(\"----------\")\n",
    "    if p_valor < a:\n",
    "        print(\"✅ Se RECHAZA H0. Hay evidencia significativa contra H0.\")\n",
    "    else:\n",
    "        print(\"🟡 No se rechaza H0. No hay evidencia suficiente para rechazarla.\")\n",
    "\n",
    "    # -----------------------------\n",
    "    # Gráfico\n",
    "    # -----------------------------\n",
    "    x = np.linspace(-4, 4, 400)\n",
    "    y = stats.t.pdf(x, df)\n",
    "\n",
    "    plt.figure(figsize=(8, 4))\n",
    "    plt.plot(x, y, label=f\"Distribución t (df={df})\")\n",
    "    plt.title(\"Distribución t de Student\")\n",
    "\n",
    "    # Sombrear regiones críticas\n",
    "    if tipo == \"Dos colas\":\n",
    "        t_crit = stats.t.ppf(1 - a / 2, df)\n",
    "        plt.fill_between(x, y, where=(x <= -t_crit) | (x >= t_crit), color=\"red\", alpha=0.3, label=\"Región crítica\")\n",
    "    elif tipo == \"Cola inferior\":\n",
    "        t_crit = stats.t.ppf(a, df)\n",
    "        plt.fill_between(x, y, where=(x <= t_crit), color=\"red\", alpha=0.3, label=\"Región crítica\")\n",
    "    elif tipo == \"Cola superior\":\n",
    "        t_crit = stats.t.ppf(1 - a, df)\n",
    "        plt.fill_between(x, y, where=(x >= t_crit), color=\"red\", alpha=0.3, label=\"Región crítica\")\n",
    "\n",
    "    # Línea para el t observado\n",
    "    plt.axvline(t_stat, color=\"black\", linestyle=\"--\", label=\"t observado\")\n",
    "    plt.legend()\n",
    "    plt.grid(True)\n",
    "    plt.xlabel(\"t\")\n",
    "    plt.ylabel(\"Densidad\")\n",
    "    plt.show()\n",
    "\n",
    "    # Re-mostrar los widgets debajo del resultado\n",
    "    display(media_muestral, n_muestra, desv_estandar, media_hipotetica, alpha, tipo_prueba, calcular_btn)\n",
    "\n",
    "# Enlazar botón\n",
    "calcular_btn.on_click(ejecutar_prueba)\n",
    "\n",
    "# Mostrar interfaz\n",
    "display(media_muestral, n_muestra, desv_estandar, media_hipotetica, alpha, tipo_prueba, calcular_btn)\n"
   ]
  }
 ],
 "metadata": {
  "kernelspec": {
   "display_name": "Python 3",
   "language": "python",
   "name": "python3"
  },
  "language_info": {
   "codemirror_mode": {
    "name": "ipython",
    "version": 3
   },
   "file_extension": ".py",
   "mimetype": "text/x-python",
   "name": "python",
   "nbconvert_exporter": "python",
   "pygments_lexer": "ipython3",
   "version": "3.11.9"
  }
 },
 "nbformat": 4,
 "nbformat_minor": 5
}
